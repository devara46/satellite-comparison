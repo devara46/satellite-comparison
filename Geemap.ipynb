{
 "cells": [
  {
   "cell_type": "code",
   "execution_count": 1,
   "id": "c57535e3",
   "metadata": {},
   "outputs": [],
   "source": [
    "import os\n",
    "import ee\n",
    "import geemap"
   ]
  },
  {
   "cell_type": "code",
   "execution_count": 2,
   "id": "bc933d8c",
   "metadata": {},
   "outputs": [
    {
     "data": {
      "text/html": [
       "<p>To authorize access needed by Earth Engine, open the following\n",
       "        URL in a web browser and follow the instructions:</p>\n",
       "        <p><a href=https://accounts.google.com/o/oauth2/auth?client_id=517222506229-vsmmajv00ul0bs7p89v5m89qs8eb9359.apps.googleusercontent.com&scope=https%3A%2F%2Fwww.googleapis.com%2Fauth%2Fearthengine+https%3A%2F%2Fwww.googleapis.com%2Fauth%2Fdevstorage.full_control&redirect_uri=urn%3Aietf%3Awg%3Aoauth%3A2.0%3Aoob&response_type=code&code_challenge=4mr6bdjsJdkwMBvBRUMTWQ2A00ykLWQr-mcl9q_2bH0&code_challenge_method=S256>https://accounts.google.com/o/oauth2/auth?client_id=517222506229-vsmmajv00ul0bs7p89v5m89qs8eb9359.apps.googleusercontent.com&scope=https%3A%2F%2Fwww.googleapis.com%2Fauth%2Fearthengine+https%3A%2F%2Fwww.googleapis.com%2Fauth%2Fdevstorage.full_control&redirect_uri=urn%3Aietf%3Awg%3Aoauth%3A2.0%3Aoob&response_type=code&code_challenge=4mr6bdjsJdkwMBvBRUMTWQ2A00ykLWQr-mcl9q_2bH0&code_challenge_method=S256</a></p>\n",
       "        <p>The authorization workflow will generate a code, which you\n",
       "        should paste in the box below</p>\n",
       "        "
      ],
      "text/plain": [
       "<IPython.core.display.HTML object>"
      ]
     },
     "metadata": {},
     "output_type": "display_data"
    },
    {
     "name": "stdout",
     "output_type": "stream",
     "text": [
      "Enter verification code: 4/1AX4XfWh7hOwhNe6kuxaxM-eOsT6h64SxPfmoENf4jEzkGV0vuqv7MIcpGBE\n",
      "\n",
      "Successfully saved authorization token.\n"
     ]
    }
   ],
   "source": [
    "ee.Authenticate()\n",
    "ee.Initialize()"
   ]
  },
  {
   "cell_type": "code",
   "execution_count": 3,
   "id": "a902a5bb",
   "metadata": {},
   "outputs": [],
   "source": [
    "nganjuk = ee.FeatureCollection('users/devatrisa/nganjuk-polygon')\n",
    "nganjuk = nganjuk.geometry()"
   ]
  },
  {
   "cell_type": "code",
   "execution_count": 4,
   "id": "c6347db7",
   "metadata": {},
   "outputs": [],
   "source": [
    "sen = ee.ImageCollection(ee.ImageCollection('COPERNICUS/S2_SR')\n",
    "                         .filterDate('2020-03-10', '2020-03-15')\n",
    "                         .filterBounds(nganjuk)).mean().clip(nganjuk)"
   ]
  },
  {
   "cell_type": "code",
   "execution_count": 5,
   "id": "006b1ee4",
   "metadata": {},
   "outputs": [],
   "source": [
    "cnn = ee.Image('users/devatrisa/cnn_classification_sentinel_10_clipped')\n",
    "nganjuk_new = cnn.clip(nganjuk)"
   ]
  },
  {
   "cell_type": "code",
   "execution_count": 6,
   "id": "0a43d874",
   "metadata": {},
   "outputs": [],
   "source": [
    "Map = geemap.Map(center=(-7.6, 112), zoom=11)"
   ]
  },
  {
   "cell_type": "code",
   "execution_count": 7,
   "id": "e93e00a3",
   "metadata": {},
   "outputs": [],
   "source": [
    "url = 'https://mt1.google.com/vt/lyrs=m&x={x}&y={y}&z={z}'\n",
    "Map.add_tile_layer(url, name='Google Map', attribution='Google')"
   ]
  },
  {
   "cell_type": "code",
   "execution_count": 8,
   "id": "a5284f62",
   "metadata": {},
   "outputs": [],
   "source": [
    "Map.add_basemap('HYBRID')"
   ]
  },
  {
   "cell_type": "code",
   "execution_count": 9,
   "id": "6cd50904",
   "metadata": {},
   "outputs": [],
   "source": [
    "Map.addLayer(sen, {'min':0, 'max':3000, 'bands':['B4', 'B3', 'B2'], 'gamma':1.25}, 'Sentinel')"
   ]
  },
  {
   "cell_type": "code",
   "execution_count": 10,
   "id": "3072abe8",
   "metadata": {},
   "outputs": [],
   "source": [
    "Map.addLayer(nganjuk_new, {'min':0, 'max':7, 'palette':['#000000', '#b800f5', '#3449eb', '#00ff54', '#ffea00', '#327800', \n",
    "        '#ffffff', '#ff0000']}, 'CNN')"
   ]
  },
  {
   "cell_type": "code",
   "execution_count": 11,
   "id": "3b8e9182",
   "metadata": {},
   "outputs": [
    {
     "data": {
      "application/vnd.jupyter.widget-view+json": {
       "model_id": "11d8bd6cbb6b4988a42337d2a21a17af",
       "version_major": 2,
       "version_minor": 0
      },
      "text/plain": [
       "Map(center=[-7.6, 112], controls=(WidgetControl(options=['position', 'transparent_bg'], widget=HBox(children=(…"
      ]
     },
     "metadata": {},
     "output_type": "display_data"
    }
   ],
   "source": [
    "Map"
   ]
  },
  {
   "cell_type": "code",
   "execution_count": null,
   "id": "38de09b6",
   "metadata": {},
   "outputs": [],
   "source": []
  }
 ],
 "metadata": {
  "kernelspec": {
   "display_name": "field-detection",
   "language": "python",
   "name": "field-detection"
  },
  "language_info": {
   "codemirror_mode": {
    "name": "ipython",
    "version": 3
   },
   "file_extension": ".py",
   "mimetype": "text/x-python",
   "name": "python",
   "nbconvert_exporter": "python",
   "pygments_lexer": "ipython3",
   "version": "3.9.7"
  }
 },
 "nbformat": 4,
 "nbformat_minor": 5
}
